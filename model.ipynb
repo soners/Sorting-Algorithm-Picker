{
 "cells": [
  {
   "cell_type": "code",
   "execution_count": 1,
   "metadata": {},
   "outputs": [
    {
     "data": {
      "text/plain": [
       "'1.12.0'"
      ]
     },
     "execution_count": 1,
     "metadata": {},
     "output_type": "execute_result"
    }
   ],
   "source": [
    "import tensorflow as tf\n",
    "import pandas as pd\n",
    "import numpy as np\n",
    "import matplotlib.pyplot as plt\n",
    "from sklearn.model_selection import train_test_split\n",
    "\n",
    "tf.__version__"
   ]
  },
  {
   "cell_type": "code",
   "execution_count": 2,
   "metadata": {},
   "outputs": [
    {
     "name": "stderr",
     "output_type": "stream",
     "text": [
      "/home/ycb_stm/.local/lib/python3.5/site-packages/ipykernel_launcher.py:1: FutureWarning: from_csv is deprecated. Please use read_csv(...) instead. Note that some of the default arguments are different, so please refer to the documentation for from_csv when changing your function calls\n",
      "  \"\"\"Entry point for launching an IPython kernel.\n"
     ]
    }
   ],
   "source": [
    "df = pd.DataFrame.from_csv('data/onehot_encoded.csv')"
   ]
  },
  {
   "cell_type": "code",
   "execution_count": 3,
   "metadata": {},
   "outputs": [],
   "source": [
    "y = df.chosen\n",
    "x = df.drop('chosen', axis=1)\n",
    "\n",
    "x_train, x_test, y_train, y_test = train_test_split(x, y,test_size=0.09)"
   ]
  },
  {
   "cell_type": "code",
   "execution_count": 4,
   "metadata": {},
   "outputs": [
    {
     "data": {
      "text/plain": [
       "(47320, 15)"
      ]
     },
     "execution_count": 4,
     "metadata": {},
     "output_type": "execute_result"
    }
   ],
   "source": [
    "x_train.shape"
   ]
  },
  {
   "cell_type": "code",
   "execution_count": 5,
   "metadata": {},
   "outputs": [
    {
     "data": {
      "text/plain": [
       "(47320,)"
      ]
     },
     "execution_count": 5,
     "metadata": {},
     "output_type": "execute_result"
    }
   ],
   "source": [
    "y_train.shape"
   ]
  },
  {
   "cell_type": "code",
   "execution_count": 6,
   "metadata": {},
   "outputs": [
    {
     "data": {
      "text/plain": [
       "(4680, 15)"
      ]
     },
     "execution_count": 6,
     "metadata": {},
     "output_type": "execute_result"
    }
   ],
   "source": [
    "x_test.shape"
   ]
  },
  {
   "cell_type": "code",
   "execution_count": 7,
   "metadata": {},
   "outputs": [
    {
     "data": {
      "text/plain": [
       "(4680,)"
      ]
     },
     "execution_count": 7,
     "metadata": {},
     "output_type": "execute_result"
    }
   ],
   "source": [
    "y_test.shape"
   ]
  },
  {
   "cell_type": "code",
   "execution_count": 8,
   "metadata": {
    "scrolled": false
   },
   "outputs": [
    {
     "name": "stdout",
     "output_type": "stream",
     "text": [
      "Train on 31704 samples, validate on 15616 samples\n",
      "Epoch 1/100\n",
      "31704/31704 [==============================] - 5s 146us/step - loss: 5.2683 - acc: 0.6024 - val_loss: 0.5165 - val_acc: 0.8163\n",
      "Epoch 2/100\n",
      "31704/31704 [==============================] - 4s 141us/step - loss: 0.5238 - acc: 0.8067 - val_loss: 0.5610 - val_acc: 0.7798\n",
      "Epoch 3/100\n",
      "31704/31704 [==============================] - 4s 138us/step - loss: 0.4841 - acc: 0.8134 - val_loss: 0.4644 - val_acc: 0.8220\n",
      "Epoch 4/100\n",
      "31704/31704 [==============================] - 5s 151us/step - loss: 0.4715 - acc: 0.8142 - val_loss: 0.4608 - val_acc: 0.8113\n",
      "Epoch 5/100\n",
      "31704/31704 [==============================] - 5s 156us/step - loss: 0.4605 - acc: 0.8175 - val_loss: 0.4596 - val_acc: 0.8240\n",
      "Epoch 6/100\n",
      "31704/31704 [==============================] - 5s 165us/step - loss: 0.4554 - acc: 0.8193 - val_loss: 0.4808 - val_acc: 0.8113\n",
      "Epoch 7/100\n",
      "31704/31704 [==============================] - 5s 149us/step - loss: 0.4554 - acc: 0.8172 - val_loss: 0.4349 - val_acc: 0.8252\n",
      "Epoch 8/100\n",
      "31704/31704 [==============================] - 5s 158us/step - loss: 0.4518 - acc: 0.8170 - val_loss: 0.4318 - val_acc: 0.8284\n",
      "Epoch 9/100\n",
      "31704/31704 [==============================] - 5s 147us/step - loss: 0.4490 - acc: 0.8198 - val_loss: 0.4616 - val_acc: 0.8165\n",
      "Epoch 10/100\n",
      "31704/31704 [==============================] - 5s 142us/step - loss: 0.4494 - acc: 0.8202 - val_loss: 0.4297 - val_acc: 0.8369\n",
      "Epoch 11/100\n",
      "31704/31704 [==============================] - 4s 141us/step - loss: 0.4417 - acc: 0.8237 - val_loss: 0.4199 - val_acc: 0.8308\n",
      "Epoch 12/100\n",
      "31704/31704 [==============================] - 5s 142us/step - loss: 0.4415 - acc: 0.8241 - val_loss: 0.4208 - val_acc: 0.8314\n",
      "Epoch 13/100\n",
      "31704/31704 [==============================] - 4s 142us/step - loss: 0.4409 - acc: 0.8241 - val_loss: 0.4470 - val_acc: 0.8297\n",
      "Epoch 14/100\n",
      "31704/31704 [==============================] - 5s 143us/step - loss: 0.4368 - acc: 0.8257 - val_loss: 0.4232 - val_acc: 0.8313\n",
      "Epoch 15/100\n",
      "31704/31704 [==============================] - 5s 143us/step - loss: 0.4377 - acc: 0.8228 - val_loss: 0.4293 - val_acc: 0.8302\n",
      "Epoch 16/100\n",
      "31704/31704 [==============================] - 4s 142us/step - loss: 0.4371 - acc: 0.8238 - val_loss: 0.4371 - val_acc: 0.8205\n",
      "Epoch 17/100\n",
      "31704/31704 [==============================] - 5s 142us/step - loss: 0.4361 - acc: 0.8254 - val_loss: 0.4492 - val_acc: 0.8173\n",
      "Epoch 18/100\n",
      "31704/31704 [==============================] - 4s 142us/step - loss: 0.4326 - acc: 0.8283 - val_loss: 0.4242 - val_acc: 0.8370\n",
      "Epoch 19/100\n",
      "31704/31704 [==============================] - 5s 143us/step - loss: 0.4363 - acc: 0.8244 - val_loss: 0.4277 - val_acc: 0.8260\n",
      "Epoch 20/100\n",
      "31704/31704 [==============================] - 5s 169us/step - loss: 0.4338 - acc: 0.8264 - val_loss: 0.4189 - val_acc: 0.8295\n",
      "Epoch 21/100\n",
      "31704/31704 [==============================] - 5s 153us/step - loss: 0.4316 - acc: 0.8287 - val_loss: 0.4527 - val_acc: 0.8135\n",
      "Epoch 22/100\n",
      "31704/31704 [==============================] - 5s 148us/step - loss: 0.4310 - acc: 0.8292 - val_loss: 0.4297 - val_acc: 0.8288\n",
      "Epoch 23/100\n",
      "31704/31704 [==============================] - 5s 154us/step - loss: 0.4276 - acc: 0.8304 - val_loss: 0.4143 - val_acc: 0.8352\n",
      "Epoch 24/100\n",
      "31704/31704 [==============================] - 5s 147us/step - loss: 0.4279 - acc: 0.8309 - val_loss: 0.4109 - val_acc: 0.8409\n",
      "Epoch 25/100\n",
      "31704/31704 [==============================] - 5s 149us/step - loss: 0.4281 - acc: 0.8310 - val_loss: 0.4205 - val_acc: 0.8318\n",
      "Epoch 26/100\n",
      "31704/31704 [==============================] - 5s 150us/step - loss: 0.4287 - acc: 0.8302 - val_loss: 0.4604 - val_acc: 0.8010\n",
      "Epoch 27/100\n",
      "31704/31704 [==============================] - 5s 147us/step - loss: 0.4242 - acc: 0.8334 - val_loss: 0.4250 - val_acc: 0.8318\n",
      "Epoch 28/100\n",
      "31704/31704 [==============================] - 5s 164us/step - loss: 0.4243 - acc: 0.8312 - val_loss: 0.4095 - val_acc: 0.8406\n",
      "Epoch 29/100\n",
      "31704/31704 [==============================] - 5s 153us/step - loss: 0.4250 - acc: 0.8319 - val_loss: 0.4103 - val_acc: 0.8413\n",
      "Epoch 30/100\n",
      "31704/31704 [==============================] - 5s 150us/step - loss: 0.4236 - acc: 0.8328 - val_loss: 0.4101 - val_acc: 0.8395\n",
      "Epoch 31/100\n",
      "31704/31704 [==============================] - 5s 162us/step - loss: 0.4235 - acc: 0.8340 - val_loss: 0.4151 - val_acc: 0.8356\n",
      "Epoch 32/100\n",
      "31704/31704 [==============================] - 5s 151us/step - loss: 0.4252 - acc: 0.8316 - val_loss: 0.4391 - val_acc: 0.8185\n",
      "Epoch 33/100\n",
      "31704/31704 [==============================] - 5s 157us/step - loss: 0.4225 - acc: 0.8327 - val_loss: 0.4266 - val_acc: 0.8249\n",
      "Epoch 34/100\n",
      "31704/31704 [==============================] - 5s 153us/step - loss: 0.4212 - acc: 0.8337 - val_loss: 0.4196 - val_acc: 0.8296\n",
      "Epoch 35/100\n",
      "31704/31704 [==============================] - 5s 157us/step - loss: 0.4188 - acc: 0.8353 - val_loss: 0.4305 - val_acc: 0.8370\n",
      "Epoch 36/100\n",
      "31704/31704 [==============================] - 5s 154us/step - loss: 0.4228 - acc: 0.8367 - val_loss: 0.4019 - val_acc: 0.8427\n",
      "Epoch 37/100\n",
      "31704/31704 [==============================] - 5s 155us/step - loss: 0.4202 - acc: 0.8320 - val_loss: 0.4177 - val_acc: 0.8306\n",
      "Epoch 38/100\n",
      "31704/31704 [==============================] - 5s 154us/step - loss: 0.4198 - acc: 0.8350 - val_loss: 0.4084 - val_acc: 0.8402\n",
      "Epoch 39/100\n",
      "31704/31704 [==============================] - 5s 158us/step - loss: 0.4180 - acc: 0.8369 - val_loss: 0.4081 - val_acc: 0.8486\n",
      "Epoch 40/100\n",
      "31704/31704 [==============================] - 5s 165us/step - loss: 0.4179 - acc: 0.8350 - val_loss: 0.3996 - val_acc: 0.8486\n",
      "Epoch 41/100\n",
      "31704/31704 [==============================] - 5s 153us/step - loss: 0.4194 - acc: 0.8374 - val_loss: 0.4979 - val_acc: 0.8164\n",
      "Epoch 42/100\n",
      "31704/31704 [==============================] - 5s 158us/step - loss: 0.4223 - acc: 0.8337 - val_loss: 0.4302 - val_acc: 0.8203\n",
      "Epoch 43/100\n",
      "31704/31704 [==============================] - 5s 153us/step - loss: 0.4183 - acc: 0.8360 - val_loss: 0.4078 - val_acc: 0.8430\n",
      "Epoch 44/100\n",
      "31704/31704 [==============================] - 5s 155us/step - loss: 0.4171 - acc: 0.8375 - val_loss: 0.4179 - val_acc: 0.8343\n",
      "Epoch 45/100\n",
      "31704/31704 [==============================] - 5s 155us/step - loss: 0.4190 - acc: 0.8371 - val_loss: 0.4075 - val_acc: 0.8450\n",
      "Epoch 46/100\n",
      "31704/31704 [==============================] - 5s 156us/step - loss: 0.4172 - acc: 0.8362 - val_loss: 0.4066 - val_acc: 0.8345\n",
      "Epoch 47/100\n",
      "31704/31704 [==============================] - 5s 156us/step - loss: 0.4251 - acc: 0.8359 - val_loss: 0.4413 - val_acc: 0.8154\n",
      "Epoch 48/100\n",
      "31704/31704 [==============================] - 5s 159us/step - loss: 0.4143 - acc: 0.8362 - val_loss: 0.4038 - val_acc: 0.8465\n",
      "Epoch 49/100\n",
      "31704/31704 [==============================] - 5s 161us/step - loss: 0.4121 - acc: 0.8391 - val_loss: 0.4324 - val_acc: 0.8191\n",
      "Epoch 50/100\n",
      "31704/31704 [==============================] - 5s 156us/step - loss: 0.4132 - acc: 0.8375 - val_loss: 0.4005 - val_acc: 0.8502\n",
      "Epoch 51/100\n",
      "31704/31704 [==============================] - 5s 155us/step - loss: 0.4150 - acc: 0.8365 - val_loss: 0.4099 - val_acc: 0.8380\n",
      "Epoch 52/100\n",
      "31704/31704 [==============================] - 5s 155us/step - loss: 0.4601 - acc: 0.8264 - val_loss: 0.4030 - val_acc: 0.8461\n",
      "Epoch 53/100\n",
      "31704/31704 [==============================] - 5s 160us/step - loss: 0.4148 - acc: 0.8354 - val_loss: 0.4271 - val_acc: 0.8232\n",
      "Epoch 54/100\n",
      "31704/31704 [==============================] - 5s 157us/step - loss: 0.4148 - acc: 0.8380 - val_loss: 0.4056 - val_acc: 0.8393\n",
      "Epoch 55/100\n",
      "31704/31704 [==============================] - 5s 157us/step - loss: 0.4138 - acc: 0.8390 - val_loss: 0.4036 - val_acc: 0.8436\n",
      "Epoch 56/100\n",
      "31704/31704 [==============================] - 5s 158us/step - loss: 0.4113 - acc: 0.8404 - val_loss: 0.4046 - val_acc: 0.8434\n",
      "Epoch 57/100\n",
      "31704/31704 [==============================] - 5s 158us/step - loss: 0.4112 - acc: 0.8394 - val_loss: 0.4134 - val_acc: 0.8316\n",
      "Epoch 58/100\n",
      "31704/31704 [==============================] - 5s 159us/step - loss: 0.4104 - acc: 0.8376 - val_loss: 0.4289 - val_acc: 0.8161\n",
      "Epoch 59/100\n"
     ]
    },
    {
     "name": "stdout",
     "output_type": "stream",
     "text": [
      "31704/31704 [==============================] - 4s 136us/step - loss: 0.4103 - acc: 0.8379 - val_loss: 0.3954 - val_acc: 0.8523\n",
      "Epoch 60/100\n",
      "31704/31704 [==============================] - 4s 135us/step - loss: 0.4102 - acc: 0.8405 - val_loss: 0.3963 - val_acc: 0.8487\n",
      "Epoch 61/100\n",
      "31704/31704 [==============================] - 4s 136us/step - loss: 0.4115 - acc: 0.8393 - val_loss: 0.4557 - val_acc: 0.8181\n",
      "Epoch 62/100\n",
      "31704/31704 [==============================] - 5s 143us/step - loss: 0.4098 - acc: 0.8405 - val_loss: 0.4100 - val_acc: 0.8385\n",
      "Epoch 63/100\n",
      "31704/31704 [==============================] - 5s 147us/step - loss: 0.4104 - acc: 0.8395 - val_loss: 0.4578 - val_acc: 0.8178\n",
      "Epoch 64/100\n",
      "31704/31704 [==============================] - 5s 152us/step - loss: 0.4081 - acc: 0.8418 - val_loss: 0.4106 - val_acc: 0.8468\n",
      "Epoch 65/100\n",
      "31704/31704 [==============================] - 6s 181us/step - loss: 0.4106 - acc: 0.8380 - val_loss: 0.4048 - val_acc: 0.8387\n",
      "Epoch 66/100\n",
      "31704/31704 [==============================] - 5s 170us/step - loss: 0.4085 - acc: 0.8409 - val_loss: 0.3944 - val_acc: 0.8514\n",
      "Epoch 67/100\n",
      "31704/31704 [==============================] - 5s 152us/step - loss: 0.4067 - acc: 0.8413 - val_loss: 0.4243 - val_acc: 0.8280\n",
      "Epoch 68/100\n",
      "31704/31704 [==============================] - 4s 130us/step - loss: 0.4093 - acc: 0.8405 - val_loss: 0.4075 - val_acc: 0.8423\n",
      "Epoch 69/100\n",
      "31704/31704 [==============================] - 4s 128us/step - loss: 0.4061 - acc: 0.8437 - val_loss: 0.3937 - val_acc: 0.8480\n",
      "Epoch 70/100\n",
      "31704/31704 [==============================] - 4s 127us/step - loss: 0.4098 - acc: 0.8415 - val_loss: 0.4010 - val_acc: 0.8486\n",
      "Epoch 71/100\n",
      "31704/31704 [==============================] - 4s 134us/step - loss: 0.4086 - acc: 0.8399 - val_loss: 0.4066 - val_acc: 0.8424\n",
      "Epoch 72/100\n",
      "31704/31704 [==============================] - 5s 154us/step - loss: 0.4240 - acc: 0.8378 - val_loss: 0.4752 - val_acc: 0.8194\n",
      "Epoch 73/100\n",
      "31704/31704 [==============================] - 7s 234us/step - loss: 0.4206 - acc: 0.8381 - val_loss: 0.3929 - val_acc: 0.8507\n",
      "Epoch 74/100\n",
      "31704/31704 [==============================] - 5s 156us/step - loss: 0.4054 - acc: 0.8407 - val_loss: 0.3896 - val_acc: 0.8511\n",
      "Epoch 75/100\n",
      "31704/31704 [==============================] - 4s 126us/step - loss: 0.4077 - acc: 0.8418 - val_loss: 0.4173 - val_acc: 0.8400\n",
      "Epoch 76/100\n",
      "31704/31704 [==============================] - 4s 126us/step - loss: 0.4048 - acc: 0.8416 - val_loss: 0.3951 - val_acc: 0.8477\n",
      "Epoch 77/100\n",
      "31704/31704 [==============================] - 4s 127us/step - loss: 0.4079 - acc: 0.8433 - val_loss: 0.3972 - val_acc: 0.8480\n",
      "Epoch 78/100\n",
      "31704/31704 [==============================] - 4s 127us/step - loss: 0.4049 - acc: 0.8417 - val_loss: 0.4022 - val_acc: 0.8378\n",
      "Epoch 79/100\n",
      "31704/31704 [==============================] - 4s 126us/step - loss: 0.4050 - acc: 0.8458 - val_loss: 0.3979 - val_acc: 0.8469\n",
      "Epoch 80/100\n",
      "31704/31704 [==============================] - 4s 126us/step - loss: 0.4288 - acc: 0.8390 - val_loss: 0.4785 - val_acc: 0.8205\n",
      "Epoch 81/100\n",
      "31704/31704 [==============================] - 4s 125us/step - loss: 0.4819 - acc: 0.8221 - val_loss: 0.4774 - val_acc: 0.8247\n",
      "Epoch 82/100\n",
      "31704/31704 [==============================] - 4s 126us/step - loss: 0.4807 - acc: 0.8226 - val_loss: 0.4761 - val_acc: 0.8196\n",
      "Epoch 83/100\n",
      "31704/31704 [==============================] - 4s 127us/step - loss: 0.4789 - acc: 0.8216 - val_loss: 0.5565 - val_acc: 0.8085\n",
      "Epoch 84/100\n",
      "31704/31704 [==============================] - 4s 126us/step - loss: 0.4788 - acc: 0.8214 - val_loss: 0.4753 - val_acc: 0.8194\n",
      "Epoch 85/100\n",
      "31704/31704 [==============================] - 4s 127us/step - loss: 0.4717 - acc: 0.8231 - val_loss: 0.4984 - val_acc: 0.8081\n",
      "Epoch 86/100\n",
      "31704/31704 [==============================] - 4s 126us/step - loss: 0.4692 - acc: 0.8184 - val_loss: 0.4290 - val_acc: 0.8379\n",
      "Epoch 87/100\n",
      "31704/31704 [==============================] - 4s 126us/step - loss: 0.4163 - acc: 0.8385 - val_loss: 0.3962 - val_acc: 0.8467\n",
      "Epoch 88/100\n",
      "31704/31704 [==============================] - 4s 126us/step - loss: 0.4091 - acc: 0.8402 - val_loss: 0.4011 - val_acc: 0.8434\n",
      "Epoch 89/100\n",
      "31704/31704 [==============================] - 4s 126us/step - loss: 0.4024 - acc: 0.8434 - val_loss: 0.4035 - val_acc: 0.8427\n",
      "Epoch 90/100\n",
      "31704/31704 [==============================] - 4s 126us/step - loss: 0.4031 - acc: 0.8442 - val_loss: 0.4179 - val_acc: 0.8279\n",
      "Epoch 91/100\n",
      "31704/31704 [==============================] - 4s 126us/step - loss: 0.4040 - acc: 0.8435 - val_loss: 0.4060 - val_acc: 0.8432\n",
      "Epoch 92/100\n",
      "31704/31704 [==============================] - 4s 127us/step - loss: 0.4075 - acc: 0.8444 - val_loss: 0.3900 - val_acc: 0.8501\n",
      "Epoch 93/100\n",
      "31704/31704 [==============================] - 4s 126us/step - loss: 0.4017 - acc: 0.8440 - val_loss: 0.4551 - val_acc: 0.8226\n",
      "Epoch 94/100\n",
      "31704/31704 [==============================] - 4s 126us/step - loss: 0.4050 - acc: 0.8413 - val_loss: 0.3926 - val_acc: 0.8511\n",
      "Epoch 95/100\n",
      "31704/31704 [==============================] - 4s 126us/step - loss: 0.4033 - acc: 0.8432 - val_loss: 0.3943 - val_acc: 0.8465\n",
      "Epoch 96/100\n",
      "31704/31704 [==============================] - 4s 126us/step - loss: 0.4007 - acc: 0.8448 - val_loss: 0.4073 - val_acc: 0.8332\n",
      "Epoch 97/100\n",
      "31704/31704 [==============================] - 4s 134us/step - loss: 0.4029 - acc: 0.8438 - val_loss: 0.3919 - val_acc: 0.8524\n",
      "Epoch 98/100\n",
      "31704/31704 [==============================] - 4s 126us/step - loss: 0.4015 - acc: 0.8446 - val_loss: 0.4017 - val_acc: 0.8447\n",
      "Epoch 99/100\n",
      "31704/31704 [==============================] - 4s 126us/step - loss: 0.3996 - acc: 0.8462 - val_loss: 0.3862 - val_acc: 0.8571\n",
      "Epoch 100/100\n",
      "31704/31704 [==============================] - 4s 126us/step - loss: 0.4012 - acc: 0.8442 - val_loss: 0.4060 - val_acc: 0.8480\n"
     ]
    }
   ],
   "source": [
    "model = tf.keras.models.Sequential()\n",
    "\n",
    "model.add(tf.keras.layers.Flatten())\n",
    "model.add(tf.keras.layers.Dense(128, activation = tf.nn.relu))\n",
    "model.add(tf.keras.layers.Dense(128, activation = tf.nn.leaky_relu))\n",
    "model.add(tf.keras.layers.Dense(128, activation = tf.nn.relu))\n",
    "model.add(tf.keras.layers.Dense(6, activation = tf.nn.softmax))\n",
    "\n",
    "model.compile(optimizer='adam', loss='sparse_categorical_crossentropy', metrics=['accuracy'])\n",
    "\n",
    "history = model.fit(x_train.values, y_train.values, validation_split=0.33, epochs=100, batch_size=10, verbose=1)"
   ]
  },
  {
   "cell_type": "code",
   "execution_count": 9,
   "metadata": {},
   "outputs": [
    {
     "name": "stdout",
     "output_type": "stream",
     "text": [
      "4680/4680 [==============================] - 0s 14us/step\n"
     ]
    }
   ],
   "source": [
    "val_loss, val_acc = model.evaluate(x_test, y_test)"
   ]
  },
  {
   "cell_type": "code",
   "execution_count": 10,
   "metadata": {},
   "outputs": [
    {
     "name": "stdout",
     "output_type": "stream",
     "text": [
      "0.4128681292900672 0.8508547008547008\n"
     ]
    }
   ],
   "source": [
    "print(val_loss, val_acc)"
   ]
  },
  {
   "cell_type": "code",
   "execution_count": 11,
   "metadata": {},
   "outputs": [
    {
     "name": "stdout",
     "output_type": "stream",
     "text": [
      "WARNING:tensorflow:This model was compiled with a Keras optimizer (<tensorflow.python.keras.optimizers.Adam object at 0x7fc68945cd68>) but is being saved in TensorFlow format with `save_weights`. The model's weights will be saved, but unlike with TensorFlow optimizers in the TensorFlow format the optimizer's state will not be saved.\n",
      "\n",
      "Consider using a TensorFlow optimizer from `tf.train`.\n"
     ]
    }
   ],
   "source": [
    "model.save_weights('data/sorting_algorithm_chooser.model')"
   ]
  },
  {
   "cell_type": "code",
   "execution_count": 12,
   "metadata": {},
   "outputs": [
    {
     "data": {
      "image/png": "[encoded data removed]",
      "text/plain": [
       "<Figure size 432x288 with 1 Axes>"
      ]
     },
     "metadata": {
      "needs_background": "light"
     },
     "output_type": "display_data"
    },
    {
     "data": {
      "image/png": "[encoded data removed]",
      "text/plain": [
       "<Figure size 432x288 with 1 Axes>"
      ]
     },
     "metadata": {
      "needs_background": "light"
     },
     "output_type": "display_data"
    }
   ],
   "source": [
    "plt.plot(history.history['acc'])\n",
    "plt.plot(history.history['val_acc'])\n",
    "plt.title('model accuracy')\n",
    "plt.ylabel('accuracy')\n",
    "plt.xlabel('epoch')\n",
    "plt.legend(['train', 'test'], loc='upper left')\n",
    "plt.show()\n",
    "plt.plot(history.history['loss'])\n",
    "plt.plot(history.history['val_loss'])\n",
    "plt.title('model loss')\n",
    "plt.ylabel('loss')\n",
    "plt.xlabel('epoch')\n",
    "plt.legend(['train', 'test'], loc='upper left')\n",
    "plt.show()"
   ]
  }
 ],
 "metadata": {
  "kernelspec": {
   "display_name": "Python 3",
   "language": "python",
   "name": "python3"
  },
  "language_info": {
   "codemirror_mode": {
    "name": "ipython",
    "version": 3
   },
   "file_extension": ".py",
   "mimetype": "text/x-python",
   "name": "python",
   "nbconvert_exporter": "python",
   "pygments_lexer": "ipython3",
   "version": "3.5.2"
  }
 },
 "nbformat": 4,
 "nbformat_minor": 2
}
