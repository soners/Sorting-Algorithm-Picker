{
 "cells": [
  {
   "cell_type": "code",
   "execution_count": 1,
   "metadata": {},
   "outputs": [
    {
     "data": {
      "text/plain": [
       "'1.12.0'"
      ]
     },
     "execution_count": 1,
     "metadata": {},
     "output_type": "execute_result"
    }
   ],
   "source": [
    "import tensorflow as tf\n",
    "import pandas as pd\n",
    "import numpy as np\n",
    "import matplotlib.pyplot as plt\n",
    "from sklearn.model_selection import train_test_split\n",
    "\n",
    "tf.__version__"
   ]
  },
  {
   "cell_type": "code",
   "execution_count": 2,
   "metadata": {},
   "outputs": [
    {
     "name": "stderr",
     "output_type": "stream",
     "text": [
      "/home/ycb_stm/.local/lib/python3.5/site-packages/ipykernel_launcher.py:1: FutureWarning: from_csv is deprecated. Please use read_csv(...) instead. Note that some of the default arguments are different, so please refer to the documentation for from_csv when changing your function calls\n",
      "  \"\"\"Entry point for launching an IPython kernel.\n"
     ]
    }
   ],
   "source": [
    "df = pd.DataFrame.from_csv('data/onehot_encoded.csv')"
   ]
  },
  {
   "cell_type": "code",
   "execution_count": 3,
   "metadata": {},
   "outputs": [],
   "source": [
    "y = df.chosen\n",
    "x = df.drop('chosen', axis=1)\n",
    "\n",
    "x_train, x_test, y_train, y_test = train_test_split(x, y,test_size=0.09)"
   ]
  },
  {
   "cell_type": "code",
   "execution_count": 4,
   "metadata": {},
   "outputs": [
    {
     "data": {
      "text/plain": [
       "(47320, 15)"
      ]
     },
     "execution_count": 4,
     "metadata": {},
     "output_type": "execute_result"
    }
   ],
   "source": [
    "x_train.shape"
   ]
  },
  {
   "cell_type": "code",
   "execution_count": 5,
   "metadata": {},
   "outputs": [
    {
     "data": {
      "text/plain": [
       "(47320,)"
      ]
     },
     "execution_count": 5,
     "metadata": {},
     "output_type": "execute_result"
    }
   ],
   "source": [
    "y_train.shape"
   ]
  },
  {
   "cell_type": "code",
   "execution_count": 6,
   "metadata": {},
   "outputs": [
    {
     "data": {
      "text/plain": [
       "(4680, 15)"
      ]
     },
     "execution_count": 6,
     "metadata": {},
     "output_type": "execute_result"
    }
   ],
   "source": [
    "x_test.shape"
   ]
  },
  {
   "cell_type": "code",
   "execution_count": 7,
   "metadata": {},
   "outputs": [
    {
     "data": {
      "text/plain": [
       "(4680,)"
      ]
     },
     "execution_count": 7,
     "metadata": {},
     "output_type": "execute_result"
    }
   ],
   "source": [
    "y_test.shape"
   ]
  },
  {
   "cell_type": "code",
   "execution_count": 8,
   "metadata": {
    "scrolled": true
   },
   "outputs": [
    {
     "name": "stdout",
     "output_type": "stream",
     "text": [
      "Train on 31704 samples, validate on 15616 samples\n",
      "Epoch 1/100\n",
      "31704/31704 [==============================] - 5s 173us/step - loss: 7.2458 - acc: 0.5379 - val_loss: 3.0611 - val_acc: 0.8037\n",
      "Epoch 2/100\n",
      "31704/31704 [==============================] - 4s 137us/step - loss: 2.3131 - acc: 0.7946 - val_loss: 0.6038 - val_acc: 0.8051\n",
      "Epoch 3/100\n",
      "31704/31704 [==============================] - 4s 136us/step - loss: 0.5519 - acc: 0.8075 - val_loss: 0.5193 - val_acc: 0.8172\n",
      "Epoch 4/100\n",
      "31704/31704 [==============================] - 4s 138us/step - loss: 0.5257 - acc: 0.8094 - val_loss: 0.5524 - val_acc: 0.7923\n",
      "Epoch 5/100\n",
      "31704/31704 [==============================] - 4s 141us/step - loss: 0.4997 - acc: 0.8096 - val_loss: 0.4628 - val_acc: 0.8131\n",
      "Epoch 6/100\n",
      "31704/31704 [==============================] - 5s 154us/step - loss: 0.4807 - acc: 0.8101 - val_loss: 0.4545 - val_acc: 0.8160\n",
      "Epoch 7/100\n",
      "31704/31704 [==============================] - 5s 142us/step - loss: 0.4620 - acc: 0.8145 - val_loss: 0.4413 - val_acc: 0.8254\n",
      "Epoch 8/100\n",
      "31704/31704 [==============================] - 5s 144us/step - loss: 0.4600 - acc: 0.8135 - val_loss: 0.4359 - val_acc: 0.8215\n",
      "Epoch 9/100\n",
      "31704/31704 [==============================] - 4s 142us/step - loss: 0.4544 - acc: 0.8191 - val_loss: 0.4373 - val_acc: 0.8320\n",
      "Epoch 10/100\n",
      "31704/31704 [==============================] - 5s 142us/step - loss: 0.4491 - acc: 0.8208 - val_loss: 0.4259 - val_acc: 0.8313\n",
      "Epoch 11/100\n",
      "31704/31704 [==============================] - 5s 142us/step - loss: 0.4468 - acc: 0.8198 - val_loss: 0.4617 - val_acc: 0.8126\n",
      "Epoch 12/100\n",
      "31704/31704 [==============================] - 4s 141us/step - loss: 0.4444 - acc: 0.8212 - val_loss: 0.4599 - val_acc: 0.8195\n",
      "Epoch 13/100\n",
      "31704/31704 [==============================] - 4s 138us/step - loss: 0.4436 - acc: 0.8214 - val_loss: 0.4377 - val_acc: 0.8167\n",
      "Epoch 14/100\n",
      "31704/31704 [==============================] - 5s 142us/step - loss: 0.4418 - acc: 0.8225 - val_loss: 0.4234 - val_acc: 0.8306\n",
      "Epoch 15/100\n",
      "31704/31704 [==============================] - 4s 140us/step - loss: 0.4421 - acc: 0.8234 - val_loss: 0.4586 - val_acc: 0.8190\n",
      "Epoch 16/100\n",
      "31704/31704 [==============================] - 4s 139us/step - loss: 0.4489 - acc: 0.8233 - val_loss: 0.4321 - val_acc: 0.8283\n",
      "Epoch 17/100\n",
      "31704/31704 [==============================] - 4s 139us/step - loss: 0.4445 - acc: 0.8208 - val_loss: 0.4372 - val_acc: 0.8195\n",
      "Epoch 18/100\n",
      "31704/31704 [==============================] - 4s 138us/step - loss: 0.4395 - acc: 0.8272 - val_loss: 0.4057 - val_acc: 0.8397\n",
      "Epoch 19/100\n",
      "31704/31704 [==============================] - 4s 141us/step - loss: 0.4377 - acc: 0.8271 - val_loss: 0.4149 - val_acc: 0.8391\n",
      "Epoch 20/100\n",
      "31704/31704 [==============================] - 4s 140us/step - loss: 0.4333 - acc: 0.8323 - val_loss: 0.4232 - val_acc: 0.8243\n",
      "Epoch 21/100\n",
      "31704/31704 [==============================] - 4s 139us/step - loss: 0.4359 - acc: 0.8289 - val_loss: 0.4197 - val_acc: 0.8319\n",
      "Epoch 22/100\n",
      "31704/31704 [==============================] - 5s 146us/step - loss: 0.4314 - acc: 0.8287 - val_loss: 0.4166 - val_acc: 0.8399\n",
      "Epoch 23/100\n",
      "31704/31704 [==============================] - 5s 151us/step - loss: 0.4305 - acc: 0.8298 - val_loss: 0.4295 - val_acc: 0.8313\n",
      "Epoch 24/100\n",
      "31704/31704 [==============================] - 5s 148us/step - loss: 0.4325 - acc: 0.8289 - val_loss: 0.4340 - val_acc: 0.8211\n",
      "Epoch 25/100\n",
      "31704/31704 [==============================] - 5s 148us/step - loss: 0.4300 - acc: 0.8308 - val_loss: 0.4130 - val_acc: 0.8382\n",
      "Epoch 26/100\n",
      "31704/31704 [==============================] - 5s 153us/step - loss: 0.4312 - acc: 0.8290 - val_loss: 0.4418 - val_acc: 0.8177\n",
      "Epoch 27/100\n",
      "31704/31704 [==============================] - 5s 153us/step - loss: 0.4258 - acc: 0.8305 - val_loss: 0.4165 - val_acc: 0.8312\n",
      "Epoch 28/100\n",
      "31704/31704 [==============================] - 5s 147us/step - loss: 0.4258 - acc: 0.8327 - val_loss: 0.4162 - val_acc: 0.8386\n",
      "Epoch 29/100\n",
      "31704/31704 [==============================] - 5s 148us/step - loss: 0.4283 - acc: 0.8315 - val_loss: 0.4062 - val_acc: 0.8453\n",
      "Epoch 30/100\n",
      "31704/31704 [==============================] - 5s 155us/step - loss: 0.4289 - acc: 0.8333 - val_loss: 0.4139 - val_acc: 0.8416\n",
      "Epoch 31/100\n",
      "31704/31704 [==============================] - 5s 149us/step - loss: 0.4250 - acc: 0.8330 - val_loss: 0.4070 - val_acc: 0.8413\n",
      "Epoch 32/100\n",
      "31704/31704 [==============================] - 5s 147us/step - loss: 0.4253 - acc: 0.8336 - val_loss: 0.4056 - val_acc: 0.8412\n",
      "Epoch 33/100\n",
      "31704/31704 [==============================] - 5s 147us/step - loss: 0.4230 - acc: 0.8335 - val_loss: 0.4045 - val_acc: 0.8431\n",
      "Epoch 34/100\n",
      "31704/31704 [==============================] - 5s 159us/step - loss: 0.4217 - acc: 0.8344 - val_loss: 0.4271 - val_acc: 0.8320\n",
      "Epoch 35/100\n",
      "31704/31704 [==============================] - 5s 148us/step - loss: 0.4236 - acc: 0.8338 - val_loss: 0.4126 - val_acc: 0.8384\n",
      "Epoch 36/100\n",
      "31704/31704 [==============================] - 5s 150us/step - loss: 0.4191 - acc: 0.8353 - val_loss: 0.4049 - val_acc: 0.8482\n",
      "Epoch 37/100\n",
      "31704/31704 [==============================] - 5s 146us/step - loss: 0.4233 - acc: 0.8340 - val_loss: 0.4271 - val_acc: 0.8383\n",
      "Epoch 38/100\n",
      "31704/31704 [==============================] - 5s 145us/step - loss: 0.4186 - acc: 0.8381 - val_loss: 0.4815 - val_acc: 0.8240\n",
      "Epoch 39/100\n",
      "31704/31704 [==============================] - 5s 157us/step - loss: 0.4216 - acc: 0.8364 - val_loss: 0.4092 - val_acc: 0.8347\n",
      "Epoch 40/100\n",
      "31704/31704 [==============================] - 6s 205us/step - loss: 0.4239 - acc: 0.8342 - val_loss: 0.4159 - val_acc: 0.8430\n",
      "Epoch 41/100\n",
      "31704/31704 [==============================] - 7s 231us/step - loss: 0.4178 - acc: 0.8365 - val_loss: 0.4176 - val_acc: 0.8404\n",
      "Epoch 42/100\n",
      "31704/31704 [==============================] - 4s 136us/step - loss: 0.4196 - acc: 0.8366 - val_loss: 0.4321 - val_acc: 0.8322\n",
      "Epoch 43/100\n",
      "31704/31704 [==============================] - 4s 135us/step - loss: 0.4170 - acc: 0.8372 - val_loss: 0.4018 - val_acc: 0.8477\n",
      "Epoch 44/100\n",
      "31704/31704 [==============================] - 4s 134us/step - loss: 0.4180 - acc: 0.8365 - val_loss: 0.4292 - val_acc: 0.8211\n",
      "Epoch 45/100\n",
      "31704/31704 [==============================] - 4s 136us/step - loss: 0.4185 - acc: 0.8377 - val_loss: 0.4078 - val_acc: 0.8406\n",
      "Epoch 46/100\n",
      "31704/31704 [==============================] - 5s 173us/step - loss: 0.4232 - acc: 0.8371 - val_loss: 0.3940 - val_acc: 0.8477\n",
      "Epoch 47/100\n",
      "31704/31704 [==============================] - 5s 158us/step - loss: 0.4161 - acc: 0.8361 - val_loss: 0.3996 - val_acc: 0.8448\n",
      "Epoch 48/100\n",
      "31704/31704 [==============================] - 5s 150us/step - loss: 0.4150 - acc: 0.8393 - val_loss: 0.4274 - val_acc: 0.8313\n",
      "Epoch 49/100\n",
      "31704/31704 [==============================] - 5s 150us/step - loss: 0.4187 - acc: 0.8362 - val_loss: 0.4120 - val_acc: 0.8432\n",
      "Epoch 50/100\n",
      "31704/31704 [==============================] - 5s 146us/step - loss: 0.4172 - acc: 0.8365 - val_loss: 0.4091 - val_acc: 0.8451\n",
      "Epoch 51/100\n",
      "31704/31704 [==============================] - 5s 158us/step - loss: 0.4152 - acc: 0.8380 - val_loss: 0.4023 - val_acc: 0.8448\n",
      "Epoch 52/100\n",
      "31704/31704 [==============================] - 5s 153us/step - loss: 0.4161 - acc: 0.8407 - val_loss: 0.4120 - val_acc: 0.8378\n",
      "Epoch 53/100\n",
      "31704/31704 [==============================] - 5s 154us/step - loss: 0.4144 - acc: 0.8389 - val_loss: 0.5167 - val_acc: 0.8298\n",
      "Epoch 54/100\n",
      "31704/31704 [==============================] - 5s 146us/step - loss: 0.4175 - acc: 0.8368 - val_loss: 0.4531 - val_acc: 0.8186\n",
      "Epoch 55/100\n",
      "31704/31704 [==============================] - 5s 152us/step - loss: 0.4125 - acc: 0.8389 - val_loss: 0.4020 - val_acc: 0.8411\n",
      "Epoch 56/100\n",
      "31704/31704 [==============================] - 5s 149us/step - loss: 0.4146 - acc: 0.8394 - val_loss: 0.3974 - val_acc: 0.8466\n",
      "Epoch 57/100\n",
      "31704/31704 [==============================] - 5s 149us/step - loss: 0.4136 - acc: 0.8389 - val_loss: 0.4077 - val_acc: 0.8349\n",
      "Epoch 58/100\n",
      "31704/31704 [==============================] - 5s 166us/step - loss: 0.4145 - acc: 0.8397 - val_loss: 0.4392 - val_acc: 0.8220\n",
      "Epoch 59/100\n"
     ]
    },
    {
     "name": "stdout",
     "output_type": "stream",
     "text": [
      "31704/31704 [==============================] - 5s 150us/step - loss: 0.4165 - acc: 0.8382 - val_loss: 0.4019 - val_acc: 0.8461\n",
      "Epoch 60/100\n",
      "31704/31704 [==============================] - 6s 185us/step - loss: 0.4134 - acc: 0.8394 - val_loss: 0.3974 - val_acc: 0.8497\n",
      "Epoch 61/100\n",
      "31704/31704 [==============================] - 5s 148us/step - loss: 0.4137 - acc: 0.8391 - val_loss: 0.3941 - val_acc: 0.8501\n",
      "Epoch 62/100\n",
      "31704/31704 [==============================] - 5s 150us/step - loss: 0.4127 - acc: 0.8394 - val_loss: 0.3942 - val_acc: 0.8493\n",
      "Epoch 63/100\n",
      "31704/31704 [==============================] - 5s 145us/step - loss: 0.4150 - acc: 0.8405 - val_loss: 0.3893 - val_acc: 0.8519\n",
      "Epoch 64/100\n",
      "31704/31704 [==============================] - 4s 129us/step - loss: 0.4128 - acc: 0.8396 - val_loss: 0.3961 - val_acc: 0.8465\n",
      "Epoch 65/100\n",
      "31704/31704 [==============================] - 5s 154us/step - loss: 0.4105 - acc: 0.8414 - val_loss: 0.4191 - val_acc: 0.8429\n",
      "Epoch 66/100\n",
      "31704/31704 [==============================] - 5s 149us/step - loss: 0.4123 - acc: 0.8403 - val_loss: 0.4322 - val_acc: 0.8224\n",
      "Epoch 67/100\n",
      "31704/31704 [==============================] - 5s 147us/step - loss: 0.4119 - acc: 0.8396 - val_loss: 0.4113 - val_acc: 0.8405\n",
      "Epoch 68/100\n",
      "31704/31704 [==============================] - 5s 156us/step - loss: 0.4093 - acc: 0.8409 - val_loss: 0.4046 - val_acc: 0.8418\n",
      "Epoch 69/100\n",
      "31704/31704 [==============================] - 5s 163us/step - loss: 0.4138 - acc: 0.8403 - val_loss: 0.4115 - val_acc: 0.8410\n",
      "Epoch 70/100\n",
      "31704/31704 [==============================] - 5s 145us/step - loss: 0.4109 - acc: 0.8410 - val_loss: 0.3929 - val_acc: 0.8507\n",
      "Epoch 71/100\n",
      "31704/31704 [==============================] - 5s 146us/step - loss: 0.4120 - acc: 0.8402 - val_loss: 0.4135 - val_acc: 0.8432\n",
      "Epoch 72/100\n",
      "31704/31704 [==============================] - 5s 147us/step - loss: 0.4101 - acc: 0.8423 - val_loss: 0.4000 - val_acc: 0.8505\n",
      "Epoch 73/100\n",
      "31704/31704 [==============================] - 5s 146us/step - loss: 0.4108 - acc: 0.8413 - val_loss: 0.4315 - val_acc: 0.8295\n",
      "Epoch 74/100\n",
      "31704/31704 [==============================] - 5s 156us/step - loss: 0.4112 - acc: 0.8397 - val_loss: 0.3968 - val_acc: 0.8465\n",
      "Epoch 75/100\n",
      "31704/31704 [==============================] - 6s 185us/step - loss: 0.4140 - acc: 0.8402 - val_loss: 0.4204 - val_acc: 0.8475\n",
      "Epoch 76/100\n",
      "31704/31704 [==============================] - 6s 195us/step - loss: 0.4113 - acc: 0.8393 - val_loss: 0.4231 - val_acc: 0.8280\n",
      "Epoch 77/100\n",
      "31704/31704 [==============================] - 5s 170us/step - loss: 0.4097 - acc: 0.8420 - val_loss: 0.4029 - val_acc: 0.8388\n",
      "Epoch 78/100\n",
      "31704/31704 [==============================] - 5s 160us/step - loss: 0.4090 - acc: 0.8402 - val_loss: 0.3958 - val_acc: 0.8469\n",
      "Epoch 79/100\n",
      "31704/31704 [==============================] - 5s 146us/step - loss: 0.4098 - acc: 0.8421 - val_loss: 0.4227 - val_acc: 0.8201\n",
      "Epoch 80/100\n",
      "31704/31704 [==============================] - 5s 147us/step - loss: 0.4106 - acc: 0.8417 - val_loss: 0.4004 - val_acc: 0.8428\n",
      "Epoch 81/100\n",
      "31704/31704 [==============================] - 5s 147us/step - loss: 0.4101 - acc: 0.8403 - val_loss: 0.4061 - val_acc: 0.8441\n",
      "Epoch 82/100\n",
      "31704/31704 [==============================] - 5s 148us/step - loss: 0.4067 - acc: 0.8427 - val_loss: 0.3977 - val_acc: 0.8488\n",
      "Epoch 83/100\n",
      "31704/31704 [==============================] - 5s 145us/step - loss: 0.4073 - acc: 0.8432 - val_loss: 0.4034 - val_acc: 0.8473\n",
      "Epoch 84/100\n",
      "31704/31704 [==============================] - 5s 145us/step - loss: 0.4096 - acc: 0.8401 - val_loss: 0.4094 - val_acc: 0.8461\n",
      "Epoch 85/100\n",
      "31704/31704 [==============================] - 5s 146us/step - loss: 0.4066 - acc: 0.8422 - val_loss: 0.4013 - val_acc: 0.8496\n",
      "Epoch 86/100\n",
      "31704/31704 [==============================] - 5s 159us/step - loss: 0.4080 - acc: 0.8421 - val_loss: 0.3945 - val_acc: 0.8477\n",
      "Epoch 87/100\n",
      "31704/31704 [==============================] - 5s 147us/step - loss: 0.4088 - acc: 0.8408 - val_loss: 0.3911 - val_acc: 0.8503\n",
      "Epoch 88/100\n",
      "31704/31704 [==============================] - 5s 153us/step - loss: 0.4052 - acc: 0.8416 - val_loss: 0.3916 - val_acc: 0.8475\n",
      "Epoch 89/100\n",
      "31704/31704 [==============================] - 5s 152us/step - loss: 0.4071 - acc: 0.8426 - val_loss: 0.3968 - val_acc: 0.8464\n",
      "Epoch 90/100\n",
      "31704/31704 [==============================] - 5s 146us/step - loss: 0.4060 - acc: 0.8446 - val_loss: 0.3922 - val_acc: 0.8515\n",
      "Epoch 91/100\n",
      "31704/31704 [==============================] - 5s 147us/step - loss: 0.4033 - acc: 0.8451 - val_loss: 0.3914 - val_acc: 0.8497\n",
      "Epoch 92/100\n",
      "31704/31704 [==============================] - 5s 148us/step - loss: 0.4058 - acc: 0.8430 - val_loss: 0.3852 - val_acc: 0.8567\n",
      "Epoch 93/100\n",
      "31704/31704 [==============================] - 5s 145us/step - loss: 0.4101 - acc: 0.8424 - val_loss: 0.3887 - val_acc: 0.8512\n",
      "Epoch 94/100\n",
      "31704/31704 [==============================] - 5s 146us/step - loss: 0.4040 - acc: 0.8439 - val_loss: 0.3917 - val_acc: 0.8528\n",
      "Epoch 95/100\n",
      "31704/31704 [==============================] - 5s 146us/step - loss: 0.4073 - acc: 0.8411 - val_loss: 0.4056 - val_acc: 0.8298\n",
      "Epoch 96/100\n",
      "31704/31704 [==============================] - 5s 147us/step - loss: 0.4052 - acc: 0.8431 - val_loss: 0.3936 - val_acc: 0.8486\n",
      "Epoch 97/100\n",
      "31704/31704 [==============================] - 5s 149us/step - loss: 0.4126 - acc: 0.8429 - val_loss: 0.4084 - val_acc: 0.8411\n",
      "Epoch 98/100\n",
      "31704/31704 [==============================] - 5s 145us/step - loss: 0.4048 - acc: 0.8452 - val_loss: 0.3958 - val_acc: 0.8491\n",
      "Epoch 99/100\n",
      "31704/31704 [==============================] - 5s 146us/step - loss: 0.4087 - acc: 0.8419 - val_loss: 0.4159 - val_acc: 0.8441\n",
      "Epoch 100/100\n",
      "31704/31704 [==============================] - 5s 146us/step - loss: 0.4036 - acc: 0.8447 - val_loss: 0.4151 - val_acc: 0.8431\n"
     ]
    }
   ],
   "source": [
    "model = tf.keras.models.Sequential()\n",
    "\n",
    "model.add(tf.keras.layers.Flatten())\n",
    "model.add(tf.keras.layers.Dense(128, activation = tf.nn.relu))\n",
    "model.add(tf.keras.layers.Dense(128, activation = tf.nn.leaky_relu))\n",
    "model.add(tf.keras.layers.Dense(128, activation = tf.nn.relu))\n",
    "model.add(tf.keras.layers.Dense(6, activation = tf.nn.softmax))\n",
    "\n",
    "model.compile(optimizer='adam', loss='sparse_categorical_crossentropy', metrics=['accuracy'])\n",
    "\n",
    "history = model.fit(x_train.values, y_train.values, validation_split=0.33, epochs=100, batch_size=10, verbose=1)"
   ]
  },
  {
   "cell_type": "code",
   "execution_count": 9,
   "metadata": {},
   "outputs": [
    {
     "name": "stdout",
     "output_type": "stream",
     "text": [
      "4680/4680 [==============================] - 0s 24us/step\n"
     ]
    }
   ],
   "source": [
    "val_loss, val_acc = model.evaluate(x_test, y_test)"
   ]
  },
  {
   "cell_type": "code",
   "execution_count": 10,
   "metadata": {},
   "outputs": [
    {
     "name": "stdout",
     "output_type": "stream",
     "text": [
      "0.4010711786329237 0.8448717948717949\n"
     ]
    }
   ],
   "source": [
    "print(val_loss, val_acc)"
   ]
  },
  {
   "cell_type": "code",
   "execution_count": 11,
   "metadata": {},
   "outputs": [
    {
     "name": "stdout",
     "output_type": "stream",
     "text": [
      "WARNING:tensorflow:This model was compiled with a Keras optimizer (<tensorflow.python.keras.optimizers.Adam object at 0x7f1144452898>) but is being saved in TensorFlow format with `save_weights`. The model's weights will be saved, but unlike with TensorFlow optimizers in the TensorFlow format the optimizer's state will not be saved.\n",
      "\n",
      "Consider using a TensorFlow optimizer from `tf.train`.\n"
     ]
    }
   ],
   "source": [
    "model.save_weights('data/sorting_algorithm_chooser.model')"
   ]
  },
  {
   "cell_type": "code",
   "execution_count": 12,
   "metadata": {},
   "outputs": [
    {
     "data": {
      "image/png": "[encoded data removed]",
      "text/plain": [
       "<Figure size 432x288 with 1 Axes>"
      ]
     },
     "metadata": {
      "needs_background": "light"
     },
     "output_type": "display_data"
    },
    {
     "data": {
      "image/png": "[encoded data removed]",
      "text/plain": [
       "<Figure size 432x288 with 1 Axes>"
      ]
     },
     "metadata": {
      "needs_background": "light"
     },
     "output_type": "display_data"
    }
   ],
   "source": [
    "plt.plot(history.history['acc'])\n",
    "plt.plot(history.history['val_acc'])\n",
    "plt.title('model accuracy')\n",
    "plt.ylabel('accuracy')\n",
    "plt.xlabel('epoch')\n",
    "plt.legend(['train', 'test'], loc='upper left')\n",
    "plt.show()\n",
    "plt.plot(history.history['loss'])\n",
    "plt.plot(history.history['val_loss'])\n",
    "plt.title('model loss')\n",
    "plt.ylabel('loss')\n",
    "plt.xlabel('epoch')\n",
    "plt.legend(['train', 'test'], loc='upper left')\n",
    "plt.show()"
   ]
  }
 ],
 "metadata": {
  "kernelspec": {
   "display_name": "Python 3",
   "language": "python",
   "name": "python3"
  },
  "language_info": {
   "codemirror_mode": {
    "name": "ipython",
    "version": 3
   },
   "file_extension": ".py",
   "mimetype": "text/x-python",
   "name": "python",
   "nbconvert_exporter": "python",
   "pygments_lexer": "ipython3",
   "version": "3.5.2"
  }
 },
 "nbformat": 4,
 "nbformat_minor": 2
}
