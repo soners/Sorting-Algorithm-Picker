{
 "cells": [
  {
   "cell_type": "code",
   "execution_count": null,
   "metadata": {},
   "outputs": [],
   "source": [
    "from src.features import fill_features\n",
    "from random import *\n",
    "import numpy as np\n",
    "import time\n",
    "from src.sort import *\n",
    "import copy\n",
    "import pandas as pd"
   ]
  },
  {
   "cell_type": "code",
   "execution_count": null,
   "metadata": {},
   "outputs": [],
   "source": [
    "MAX_LENGTH = 10000\n",
    "MIN_ELEMENT = -100000\n",
    "MAX_ELEMENT = 100000\n",
    "STEPS = 100000"
   ]
  },
  {
   "cell_type": "code",
   "execution_count": null,
   "metadata": {},
   "outputs": [],
   "source": [
    "def sort_array(array, func, count=10):\n",
    "    \n",
    "    times = []\n",
    "    for i in range(count):\n",
    "        start = time.time()\n",
    "        \n",
    "        new_arr = []\n",
    "        for num in array:\n",
    "            new_arr.append(num)\n",
    "        \n",
    "        func(new_arr)\n",
    "        end = time.time()\n",
    "        times.append(end - start)\n",
    "    return np.array(times).mean()"
   ]
  },
  {
   "cell_type": "code",
   "execution_count": null,
   "metadata": {
    "scrolled": true
   },
   "outputs": [],
   "source": [
    "data = []\n",
    "# careful running this\n",
    "# may take too long (3-4 days or more)\n",
    "counter = 0\n",
    "for i in range(STEPS):\n",
    "    \n",
    "    counter += 1\n",
    "    if counter % np.ceil(STEPS * 0.01) == 0:\n",
    "        print('%f completed' % ((float(counter)/STEPS) * 100))\n",
    "    \n",
    "    length = randint(1, MAX_LENGTH)\n",
    "    minimum = randint(MIN_ELEMENT, MAX_ELEMENT)\n",
    "    maximum = randint(MIN_ELEMENT, MAX_ELEMENT)\n",
    "    precise = randint(1, length)\n",
    "    \n",
    "    while maximum < minimum:\n",
    "        minimum = randint(MIN_ELEMENT, MAX_ELEMENT)\n",
    "        maximum = randint(MIN_ELEMENT, MAX_ELEMENT)\n",
    "        \n",
    "    generator = (maximum - minimum + 1)\n",
    "    random_array = generator * np.random.rand(precise, 1) + minimum\n",
    "    int_array = [int(num) for num in random_array]\n",
    "    \n",
    "    a = int_array\n",
    "    features = fill_features(np.array(int_array))\n",
    "    \n",
    "    # just to see will the network be able to learn this specific feature\n",
    "    if len(a) < 64:\n",
    "        features['chosen'] = 'insertion_sort'\n",
    "        data.append(features)\n",
    "        continue\n",
    "    \n",
    "    insertion = sort_array(a, insertion_sort, 1)\n",
    "    merge = sort_array(a, merge_sort)\n",
    "    quick = sort_array(a, quick_sort)\n",
    "    radix = sort_array(a, radix_sort)\n",
    "    count = sort_array(a, count_sort)\n",
    "    heap = sort_array(a, heap_sort)\n",
    "    \n",
    "    fastest_chooser = {\n",
    "        'insertion_sort': insertion,\n",
    "        'merge_sort': merge,\n",
    "        'quick_sort': quick,\n",
    "        'radix_sort': radix,\n",
    "        'count_sort': count,\n",
    "        'heap_sort': heap\n",
    "    }\n",
    "    \n",
    "    best_key = 'insertion_sort'\n",
    "    \n",
    "    for key in fastest_chooser:\n",
    "        if fastest_chooser[key] < fastest_chooser[best_key]:\n",
    "            best_key = key\n",
    "            \n",
    "    features['chosen'] = best_key\n",
    "    \n",
    "    data.append(features)\n",
    "    \n",
    "df = pd.DataFrame(data)\n",
    "df.to_csv('data.csv')\n",
    "    "
   ]
  }
 ],
 "metadata": {
  "kernelspec": {
   "display_name": "Python 3",
   "language": "python",
   "name": "python3"
  },
  "language_info": {
   "codemirror_mode": {
    "name": "ipython",
    "version": 3
   },
   "file_extension": ".py",
   "mimetype": "text/x-python",
   "name": "python",
   "nbconvert_exporter": "python",
   "pygments_lexer": "ipython3",
   "version": "3.5.2"
  }
 },
 "nbformat": 4,
 "nbformat_minor": 1
}
